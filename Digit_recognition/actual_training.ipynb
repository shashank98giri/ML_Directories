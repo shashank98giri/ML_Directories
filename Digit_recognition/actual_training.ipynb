{
 "cells": [
  {
   "cell_type": "code",
   "execution_count": 1,
   "metadata": {
    "collapsed": true
   },
   "outputs": [],
   "source": [
    "from __future__ import print_function # Use a function definition from future version (say 3.x from 2.7 interpreter)\n",
    "import matplotlib.image as mpimg\n",
    "import matplotlib.pyplot as plt\n",
    "import numpy as np\n",
    "import sys\n",
    "import os\n",
    "import cntk as C\n",
    "\n",
    "%matplotlib inline"
   ]
  },
  {
   "cell_type": "code",
   "execution_count": 2,
   "metadata": {
    "collapsed": true
   },
   "outputs": [],
   "source": [
    "\n",
    "# Define the data dimensions\n",
    "input_dim = 784\n",
    "num_output_classes = 10"
   ]
  },
  {
   "cell_type": "code",
   "execution_count": 3,
   "metadata": {
    "collapsed": true
   },
   "outputs": [],
   "source": [
    "def create_reader(path, is_training, input_dim, num_label_classes):\n",
    "    \n",
    "    labelStream = C.io.StreamDef(field='labels', shape=num_label_classes, is_sparse=False)\n",
    "    featureStream = C.io.StreamDef(field='features', shape=input_dim, is_sparse=False)\n",
    "    \n",
    "    deserializer = C.io.CTFDeserializer(path, C.io.StreamDefs(labels = labelStream, features = featureStream))\n",
    "            \n",
    "    return C.io.MinibatchSource(deserializer,\n",
    "       randomize = is_training, max_sweeps = C.io.INFINITELY_REPEAT if is_training else 1)"
   ]
  },
  {
   "cell_type": "code",
   "execution_count": 4,
   "metadata": {
    "collapsed": true
   },
   "outputs": [],
   "source": [
    "\n",
    "input = C.input_variable(input_dim)\n",
    "label= C.input_variable(num_output_classes)"
   ]
  },
  {
   "cell_type": "markdown",
   "metadata": {},
   "source": [
    "** MODEL Creation **"
   ]
  },
  {
   "cell_type": "code",
   "execution_count": 5,
   "metadata": {
    "collapsed": true
   },
   "outputs": [],
   "source": [
    "def create_model(features):\n",
    "    with C.layers.default_options(init=C.glorot_uniform()):\n",
    "        return C.layers.Dense(10,activation=None)(features)\n",
    "z=create_model(input/255.0)"
   ]
  },
  {
   "cell_type": "code",
   "execution_count": 6,
   "metadata": {
    "collapsed": true
   },
   "outputs": [],
   "source": [
    "loss=C.cross_entropy_with_softmax(z,label)\n",
    "label_error=C.classification_error(z,label)\n",
    "\n",
    "lr_schedule=C.learning_rate_schedule(0.2,C.UnitType.minibatch)\n",
    "learner=C.sgd(z.parameters,lr_schedule)\n",
    "trainer=C.Trainer(z,(loss,label_error),[learner])"
   ]
  },
  {
   "cell_type": "code",
   "execution_count": 7,
   "metadata": {
    "collapsed": true
   },
   "outputs": [],
   "source": [
    "\n",
    "data_dir=os.path.join(\"data\",\"MNIST\")\n",
    "train_file = os.path.join(data_dir, \"Train-28x28_cntk_text.txt\")\n",
    "test_file = os.path.join(data_dir, \"Test-28x28_cntk_text.txt\")\n",
    "\n",
    "minibatch_size = 1000\n",
    "num_samples_per_sweep = 60000\n",
    "num_sweeps_to_train_with = 10\n",
    "num_minibatches_to_train = (num_samples_per_sweep * num_sweeps_to_train_with) / minibatch_size\n",
    "\n",
    "\n",
    "def moving_average(a, w=5):\n",
    "    if len(a)< w:\n",
    "        return a[:]\n",
    "    return [val if idx < w else sum(a[(idx-w):idx])/w for idx, val in enumerate(a)]\n",
    "\n",
    "def print_training_progress(trainer, mb, frequency, verbose=1):\n",
    "    training_loss = \"NA\"\n",
    "    eval_error = \"NA\"\n",
    "\n",
    "    if mb%frequency == 0:\n",
    "        training_loss = trainer.previous_minibatch_loss_average\n",
    "        eval_error = trainer.previous_minibatch_evaluation_average\n",
    "        if verbose: \n",
    "            print (\"Minibatch: {0}, Loss: {1:.4f}, Error: {2:.2f}%\".format(mb, training_loss, eval_error*100))\n",
    "        \n",
    "    return mb, training_loss, eval_error"
   ]
  },
  {
   "cell_type": "code",
   "execution_count": 8,
   "metadata": {},
   "outputs": [
    {
     "name": "stdout",
     "output_type": "stream",
     "text": [
      "Minibatch: 0, Loss: 2.3294, Error: 85.00%\n",
      "Minibatch: 1000, Loss: 0.2896, Error: 5.00%\n",
      "Minibatch: 2000, Loss: 0.1582, Error: 5.00%\n",
      "Minibatch: 3000, Loss: 0.1805, Error: 5.00%\n",
      "Minibatch: 4000, Loss: 0.3868, Error: 15.00%\n",
      "Minibatch: 5000, Loss: 0.1732, Error: 5.00%\n",
      "Minibatch: 6000, Loss: 0.1461, Error: 5.00%\n",
      "Minibatch: 7000, Loss: 0.0304, Error: 0.00%\n",
      "Minibatch: 8000, Loss: 0.1371, Error: 5.00%\n",
      "Minibatch: 9000, Loss: 0.1160, Error: 5.00%\n",
      "Minibatch: 10000, Loss: 0.1650, Error: 5.00%\n",
      "Minibatch: 11000, Loss: 0.2790, Error: 10.00%\n",
      "Minibatch: 12000, Loss: 0.0373, Error: 0.00%\n",
      "Minibatch: 13000, Loss: 0.4425, Error: 25.00%\n",
      "Minibatch: 14000, Loss: 0.1042, Error: 10.00%\n",
      "Minibatch: 15000, Loss: 0.0833, Error: 0.00%\n",
      "Minibatch: 16000, Loss: 0.1726, Error: 10.00%\n",
      "Minibatch: 17000, Loss: 0.2032, Error: 5.00%\n",
      "Minibatch: 18000, Loss: 0.4068, Error: 10.00%\n",
      "Minibatch: 19000, Loss: 0.1409, Error: 0.00%\n",
      "Minibatch: 20000, Loss: 0.2995, Error: 10.00%\n",
      "Minibatch: 21000, Loss: 0.1359, Error: 0.00%\n",
      "Minibatch: 22000, Loss: 0.5025, Error: 15.00%\n",
      "Minibatch: 23000, Loss: 0.6865, Error: 20.00%\n",
      "Minibatch: 24000, Loss: 0.6467, Error: 15.00%\n",
      "Minibatch: 25000, Loss: 0.0797, Error: 0.00%\n",
      "Minibatch: 26000, Loss: 0.0776, Error: 5.00%\n",
      "Minibatch: 27000, Loss: 0.0466, Error: 0.00%\n",
      "Minibatch: 28000, Loss: 0.2495, Error: 10.00%\n",
      "Minibatch: 29000, Loss: 0.2715, Error: 10.00%\n"
     ]
    }
   ],
   "source": [
    "\n",
    "\n",
    "reader_train=create_reader(train_file,True,input_dim,10)\n",
    "input_map={\n",
    "    label:reader_train.streams.labels,\n",
    "    input:reader_train.streams.features\n",
    "}\n",
    "training_progress_output_freq=1000\n",
    "\n",
    "plotdata={\"batchsize\":[],\"loss\":[],\"error\":[]}\n",
    "for i in range(int(num_minibatches_to_train)):\n",
    "    \n",
    "    # Read a mini batch from the training data file\n",
    "    data = reader_train.next_minibatch(minibatch_size, input_map = input_map)\n",
    "    \n",
    "    trainer.train_minibatch(data)\n",
    "    batchsize, loss, error = print_training_progress(trainer, i, training_progress_output_freq, verbose=1)\n",
    "    \n",
    "    if not (loss == \"NA\" or error ==\"NA\"):\n",
    "        plotdata[\"batchsize\"].append(batchsize)\n",
    "        plotdata[\"loss\"].append(loss)\n",
    "        plotdata[\"error\"].append(error)\n",
    "\n"
   ]
  },
  {
   "cell_type": "code",
   "execution_count": null,
   "metadata": {
    "collapsed": true
   },
   "outputs": [],
   "source": []
  },
  {
   "cell_type": "markdown",
   "metadata": {},
   "source": [
    "_PLOTTING_"
   ]
  },
  {
   "cell_type": "code",
   "execution_count": null,
   "metadata": {},
   "outputs": [
    {
     "name": "stdout",
     "output_type": "stream",
     "text": [
      "Average test error: 7.87%\n"
     ]
    }
   ],
   "source": [
    "# Read the training data\n",
    "reader_test = create_reader(test_file, False, input_dim, num_output_classes)\n",
    "\n",
    "test_input_map = {\n",
    "    label  : reader_test.streams.labels,\n",
    "    input  : reader_test.streams.features,\n",
    "}\n",
    "\n",
    "# Test data for trained model\n",
    "test_minibatch_size = 512\n",
    "num_samples = 10000\n",
    "num_minibatches_to_test = num_samples // test_minibatch_size\n",
    "test_result = 0.0\n",
    "\n",
    "for i in range(num_minibatches_to_test):\n",
    "    \n",
    "    # We are loading test data in batches specified by test_minibatch_size\n",
    "    # Each data point in the minibatch is a MNIST digit image of 784 dimensions \n",
    "    # with one pixel per dimension that we will encode / decode with the \n",
    "    # trained model.\n",
    "    data = reader_test.next_minibatch(test_minibatch_size,\n",
    "                                      input_map = test_input_map)\n",
    "\n",
    "    eval_error = trainer.test_minibatch(data)\n",
    "    test_result = test_result + eval_error\n",
    "\n",
    "# Average of evaluation errors of all test minibatches\n",
    "print(\"Average test error: {0:.2f}%\".format(test_result*100 / num_minibatches_to_test))"
   ]
  },
  {
   "cell_type": "code",
   "execution_count": null,
   "metadata": {
    "collapsed": true
   },
   "outputs": [],
   "source": [
    "out=C.softmax(z)\n",
    "reader_eval = create_reader(test_file, False, input_dim, num_output_classes)\n",
    "\n",
    "eval_minibatch_size = 25\n",
    "eval_input_map = {input: reader_eval.streams.features,\n",
    "                 label:reader_eval.streams.labels} \n",
    "\n",
    "data = reader_eval.next_minibatch(eval_minibatch_size, input_map = eval_input_map)\n",
    "\n",
    "img_label = data[label].asarray()\n",
    "img_data = data[input].asarray()\n",
    "predicted_label_prob = [out.eval(img_data[i]) for i in range(len(img_data))]\n",
    "\n",
    "\n",
    "pred=[np.argmax(predicted_label_prob[i]) for i in range(len(predicted_label_prob))]\n",
    "actual_label=[np.argmax(img_label[i]) for i in range(len(img_label))]\n",
    "\n",
    "print(pred[:25])\n",
    "print(actual_label)\n",
    "\n",
    "i=12\n",
    "plt.imshow(img_data[12].reshape(28,28),cmap=\"grey_r\")\n",
    "print(pred[i])"
   ]
  }
 ],
 "metadata": {
  "kernelspec": {
   "display_name": "Python 3",
   "language": "python",
   "name": "python3"
  },
  "language_info": {
   "codemirror_mode": {
    "name": "ipython",
    "version": 3
   },
   "file_extension": ".py",
   "mimetype": "text/x-python",
   "name": "python",
   "nbconvert_exporter": "python",
   "pygments_lexer": "ipython3",
   "version": "3.6.3"
  }
 },
 "nbformat": 4,
 "nbformat_minor": 2
}
